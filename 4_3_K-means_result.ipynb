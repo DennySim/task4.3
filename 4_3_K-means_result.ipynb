{
 "cells": [
  {
   "cell_type": "markdown",
   "metadata": {},
   "source": [
    "### Стандартные импорты и настройки"
   ]
  },
  {
   "cell_type": "code",
   "execution_count": 196,
   "metadata": {},
   "outputs": [],
   "source": [
    "from pprint import pprint\n",
    "\n",
    "import requests\n",
    "\n",
    "import pandas as pd\n",
    "import numpy as np\n",
    "import matplotlib.pyplot as plt\n",
    "\n",
    "%matplotlib inline"
   ]
  },
  {
   "cell_type": "markdown",
   "metadata": {},
   "source": [
    "### Scipy\n",
    "\n",
    "Импортируем функции из библиотеки для кластеризации и векторного квантования.\n",
    "\n",
    "https://docs.scipy.org/doc/scipy-0.18.1/reference/cluster.vq.html"
   ]
  },
  {
   "cell_type": "code",
   "execution_count": 197,
   "metadata": {},
   "outputs": [],
   "source": [
    "from scipy.cluster.vq import whiten, kmeans2"
   ]
  },
  {
   "cell_type": "markdown",
   "metadata": {},
   "source": [
    "### Подключаем API\n",
    "\n",
    "Для примера используем открытое API, которое предоставляет данные о футбольных командах и матчах. \n",
    "\n",
    "http://api.football-data.org/docs/v1/index.html\n",
    "\n",
    "Для полноценного использования лучше всего получить ключ, это довольно просто.\n",
    "\n",
    "http://api.football-data.org/client/register"
   ]
  },
  {
   "cell_type": "markdown",
   "metadata": {},
   "source": [
    "Для удобства зададим вспомогательный метод для обращения к API."
   ]
  },
  {
   "cell_type": "code",
   "execution_count": 198,
   "metadata": {},
   "outputs": [],
   "source": [
    "def call_api(uri, result_key):\n",
    "    json = {}\n",
    "    try:\n",
    "        json = requests.get(uri, \n",
    "                            headers={'X-Auth-Token': \n",
    "                                     '0dfe6096ccd94946b7dbce0ee9ec77f0' })\\\n",
    "                                     .json()\n",
    "        return json[result_key]\n",
    "    except:\n",
    "        #print(json)\n",
    "        return json    "
   ]
  },
  {
   "cell_type": "markdown",
   "metadata": {},
   "source": [
    "Получаем команды"
   ]
  },
  {
   "cell_type": "code",
   "execution_count": 199,
   "metadata": {},
   "outputs": [],
   "source": [
    "team_quantity = call_api(\n",
    "    'http://api.football-data.org/v1/competitions/446/?season=2016',\n",
    "    'numberOfTeams')\n",
    "teams = call_api(\n",
    "    'http://api.football-data.org/v1/competitions/446/leagueTable?season=2016',\n",
    "    'teams')\n",
    "\n"
   ]
  },
  {
   "cell_type": "markdown",
   "metadata": {},
   "source": [
    "Готовим данные для трансформации в Pandas"
   ]
  },
  {
   "cell_type": "code",
   "execution_count": 200,
   "metadata": {},
   "outputs": [
    {
     "data": {
      "text/plain": [
       "[{'losses': 7,\n",
       "  'marketvalue': 791684650,\n",
       "  'teamname': 'Wolverhampton Wanderers FC'},\n",
       " {'losses': 10, 'marketvalue': 498081175, 'teamname': 'Cardiff City FC'},\n",
       " {'losses': 8, 'marketvalue': 820194548, 'teamname': 'Fulham FC'},\n",
       " {'losses': 11, 'marketvalue': 899083009, 'teamname': 'Aston Villa FC'},\n",
       " {'losses': 14, 'marketvalue': 207808771, 'teamname': 'Middlesbrough FC'},\n",
       " {'losses': 11, 'marketvalue': 564883230, 'teamname': 'Derby County'},\n",
       " {'losses': 11, 'marketvalue': 511339115, 'teamname': 'Preston North End'},\n",
       " {'losses': 12, 'marketvalue': 757905645, 'teamname': 'Millwall FC'},\n",
       " {'losses': 13, 'marketvalue': 950008944, 'teamname': 'Brentford FC'},\n",
       " {'losses': 17, 'marketvalue': 503258152, 'teamname': 'Sheffield United FC'},\n",
       " {'losses': 13, 'marketvalue': 378752225, 'teamname': 'Bristol City'},\n",
       " {'losses': 20, 'marketvalue': 413341289, 'teamname': 'Ipswich Town'},\n",
       " {'losses': 20, 'marketvalue': 862249710, 'teamname': 'Leeds United'},\n",
       " {'losses': 16, 'marketvalue': 139553383, 'teamname': 'Norwich City FC'},\n",
       " {'losses': 17, 'marketvalue': 542089378, 'teamname': 'Sheffield Wednesday'},\n",
       " {'losses': 20, 'marketvalue': 509312302, 'teamname': 'Queens Park Rangers'},\n",
       " {'losses': 23, 'marketvalue': 430658651, 'teamname': 'Nottingham Forest'},\n",
       " {'losses': 19, 'marketvalue': 876537240, 'teamname': 'Hull City FC'},\n",
       " {'losses': 26, 'marketvalue': 206340151, 'teamname': 'Birmingham City'},\n",
       " {'losses': 22, 'marketvalue': 181329898, 'teamname': 'Reading'},\n",
       " {'losses': 23, 'marketvalue': 552593796, 'teamname': 'Bolton Wanderers FC'},\n",
       " {'losses': 23, 'marketvalue': 763633711, 'teamname': 'Barnsley FC'},\n",
       " {'losses': 25, 'marketvalue': 420693477, 'teamname': 'Burton Albion FC'},\n",
       " {'losses': 23, 'marketvalue': 185236853, 'teamname': 'Sunderland AFC'}]"
      ]
     },
     "execution_count": 200,
     "metadata": {},
     "output_type": "execute_result"
    }
   ],
   "source": [
    "team_for_pd = []\n",
    "for i in range(24):\n",
    "    team_for_pd.append({'teamname': teams['standing'][i]['teamName'], \n",
    "                        'losses': teams['standing'][i]['losses'], \n",
    "                        'marketvalue': np.random.randint(100000000, size=1)[0]})\n",
    "team_for_pd\n"
   ]
  },
  {
   "cell_type": "markdown",
   "metadata": {},
   "source": [
    "Трансформируем"
   ]
  },
  {
   "cell_type": "code",
   "execution_count": 201,
   "metadata": {},
   "outputs": [
    {
     "data": {
      "text/html": [
       "<div>\n",
       "<style scoped>\n",
       "    .dataframe tbody tr th:only-of-type {\n",
       "        vertical-align: middle;\n",
       "    }\n",
       "\n",
       "    .dataframe tbody tr th {\n",
       "        vertical-align: top;\n",
       "    }\n",
       "\n",
       "    .dataframe thead th {\n",
       "        text-align: right;\n",
       "    }\n",
       "</style>\n",
       "<table border=\"1\" class=\"dataframe\">\n",
       "  <thead>\n",
       "    <tr style=\"text-align: right;\">\n",
       "      <th></th>\n",
       "      <th>losses</th>\n",
       "      <th>marketvalue</th>\n",
       "      <th>teamname</th>\n",
       "    </tr>\n",
       "  </thead>\n",
       "  <tbody>\n",
       "    <tr>\n",
       "      <th>0</th>\n",
       "      <td>7</td>\n",
       "      <td>791684650</td>\n",
       "      <td>Wolverhampton Wanderers FC</td>\n",
       "    </tr>\n",
       "    <tr>\n",
       "      <th>1</th>\n",
       "      <td>10</td>\n",
       "      <td>498081175</td>\n",
       "      <td>Cardiff City FC</td>\n",
       "    </tr>\n",
       "    <tr>\n",
       "      <th>2</th>\n",
       "      <td>8</td>\n",
       "      <td>820194548</td>\n",
       "      <td>Fulham FC</td>\n",
       "    </tr>\n",
       "    <tr>\n",
       "      <th>3</th>\n",
       "      <td>11</td>\n",
       "      <td>899083009</td>\n",
       "      <td>Aston Villa FC</td>\n",
       "    </tr>\n",
       "    <tr>\n",
       "      <th>4</th>\n",
       "      <td>14</td>\n",
       "      <td>207808771</td>\n",
       "      <td>Middlesbrough FC</td>\n",
       "    </tr>\n",
       "    <tr>\n",
       "      <th>5</th>\n",
       "      <td>11</td>\n",
       "      <td>564883230</td>\n",
       "      <td>Derby County</td>\n",
       "    </tr>\n",
       "    <tr>\n",
       "      <th>6</th>\n",
       "      <td>11</td>\n",
       "      <td>511339115</td>\n",
       "      <td>Preston North End</td>\n",
       "    </tr>\n",
       "    <tr>\n",
       "      <th>7</th>\n",
       "      <td>12</td>\n",
       "      <td>757905645</td>\n",
       "      <td>Millwall FC</td>\n",
       "    </tr>\n",
       "    <tr>\n",
       "      <th>8</th>\n",
       "      <td>13</td>\n",
       "      <td>950008944</td>\n",
       "      <td>Brentford FC</td>\n",
       "    </tr>\n",
       "    <tr>\n",
       "      <th>9</th>\n",
       "      <td>17</td>\n",
       "      <td>503258152</td>\n",
       "      <td>Sheffield United FC</td>\n",
       "    </tr>\n",
       "    <tr>\n",
       "      <th>10</th>\n",
       "      <td>13</td>\n",
       "      <td>378752225</td>\n",
       "      <td>Bristol City</td>\n",
       "    </tr>\n",
       "    <tr>\n",
       "      <th>11</th>\n",
       "      <td>20</td>\n",
       "      <td>413341289</td>\n",
       "      <td>Ipswich Town</td>\n",
       "    </tr>\n",
       "    <tr>\n",
       "      <th>12</th>\n",
       "      <td>20</td>\n",
       "      <td>862249710</td>\n",
       "      <td>Leeds United</td>\n",
       "    </tr>\n",
       "    <tr>\n",
       "      <th>13</th>\n",
       "      <td>16</td>\n",
       "      <td>139553383</td>\n",
       "      <td>Norwich City FC</td>\n",
       "    </tr>\n",
       "    <tr>\n",
       "      <th>14</th>\n",
       "      <td>17</td>\n",
       "      <td>542089378</td>\n",
       "      <td>Sheffield Wednesday</td>\n",
       "    </tr>\n",
       "    <tr>\n",
       "      <th>15</th>\n",
       "      <td>20</td>\n",
       "      <td>509312302</td>\n",
       "      <td>Queens Park Rangers</td>\n",
       "    </tr>\n",
       "    <tr>\n",
       "      <th>16</th>\n",
       "      <td>23</td>\n",
       "      <td>430658651</td>\n",
       "      <td>Nottingham Forest</td>\n",
       "    </tr>\n",
       "    <tr>\n",
       "      <th>17</th>\n",
       "      <td>19</td>\n",
       "      <td>876537240</td>\n",
       "      <td>Hull City FC</td>\n",
       "    </tr>\n",
       "    <tr>\n",
       "      <th>18</th>\n",
       "      <td>26</td>\n",
       "      <td>206340151</td>\n",
       "      <td>Birmingham City</td>\n",
       "    </tr>\n",
       "    <tr>\n",
       "      <th>19</th>\n",
       "      <td>22</td>\n",
       "      <td>181329898</td>\n",
       "      <td>Reading</td>\n",
       "    </tr>\n",
       "    <tr>\n",
       "      <th>20</th>\n",
       "      <td>23</td>\n",
       "      <td>552593796</td>\n",
       "      <td>Bolton Wanderers FC</td>\n",
       "    </tr>\n",
       "    <tr>\n",
       "      <th>21</th>\n",
       "      <td>23</td>\n",
       "      <td>763633711</td>\n",
       "      <td>Barnsley FC</td>\n",
       "    </tr>\n",
       "    <tr>\n",
       "      <th>22</th>\n",
       "      <td>25</td>\n",
       "      <td>420693477</td>\n",
       "      <td>Burton Albion FC</td>\n",
       "    </tr>\n",
       "    <tr>\n",
       "      <th>23</th>\n",
       "      <td>23</td>\n",
       "      <td>185236853</td>\n",
       "      <td>Sunderland AFC</td>\n",
       "    </tr>\n",
       "  </tbody>\n",
       "</table>\n",
       "</div>"
      ],
      "text/plain": [
       "    losses  marketvalue                    teamname\n",
       "0        7    791684650  Wolverhampton Wanderers FC\n",
       "1       10    498081175             Cardiff City FC\n",
       "2        8    820194548                   Fulham FC\n",
       "3       11    899083009              Aston Villa FC\n",
       "4       14    207808771            Middlesbrough FC\n",
       "5       11    564883230                Derby County\n",
       "6       11    511339115           Preston North End\n",
       "7       12    757905645                 Millwall FC\n",
       "8       13    950008944                Brentford FC\n",
       "9       17    503258152         Sheffield United FC\n",
       "10      13    378752225                Bristol City\n",
       "11      20    413341289                Ipswich Town\n",
       "12      20    862249710                Leeds United\n",
       "13      16    139553383             Norwich City FC\n",
       "14      17    542089378         Sheffield Wednesday\n",
       "15      20    509312302         Queens Park Rangers\n",
       "16      23    430658651           Nottingham Forest\n",
       "17      19    876537240                Hull City FC\n",
       "18      26    206340151             Birmingham City\n",
       "19      22    181329898                     Reading\n",
       "20      23    552593796         Bolton Wanderers FC\n",
       "21      23    763633711                 Barnsley FC\n",
       "22      25    420693477            Burton Albion FC\n",
       "23      23    185236853              Sunderland AFC"
      ]
     },
     "execution_count": 201,
     "metadata": {},
     "output_type": "execute_result"
    }
   ],
   "source": [
    "teams_pd = pd.DataFrame(team_for_pd)\n",
    "teams_pd"
   ]
  },
  {
   "cell_type": "markdown",
   "metadata": {},
   "source": [
    "Отображаем"
   ]
  },
  {
   "cell_type": "code",
   "execution_count": 202,
   "metadata": {
    "scrolled": true
   },
   "outputs": [
    {
     "data": {
      "text/plain": [
       "<matplotlib.axes._subplots.AxesSubplot at 0xb9c9cf8>"
      ]
     },
     "execution_count": 202,
     "metadata": {},
     "output_type": "execute_result"
    },
    {
     "data": {
      "image/png": "[encoded data removed]",
      "text/plain": [
       "<matplotlib.figure.Figure at 0xb873d68>"
      ]
     },
     "metadata": {},
     "output_type": "display_data"
    }
   ],
   "source": [
    "teams_pd.plot.scatter(x='losses', y='marketvalue', s=100)"
   ]
  },
  {
   "cell_type": "markdown",
   "metadata": {},
   "source": [
    "Удаляем колонку с именами"
   ]
  },
  {
   "cell_type": "code",
   "execution_count": 203,
   "metadata": {},
   "outputs": [
    {
     "data": {
      "text/html": [
       "<div>\n",
       "<style scoped>\n",
       "    .dataframe tbody tr th:only-of-type {\n",
       "        vertical-align: middle;\n",
       "    }\n",
       "\n",
       "    .dataframe tbody tr th {\n",
       "        vertical-align: top;\n",
       "    }\n",
       "\n",
       "    .dataframe thead th {\n",
       "        text-align: right;\n",
       "    }\n",
       "</style>\n",
       "<table border=\"1\" class=\"dataframe\">\n",
       "  <thead>\n",
       "    <tr style=\"text-align: right;\">\n",
       "      <th></th>\n",
       "      <th>losses</th>\n",
       "      <th>marketvalue</th>\n",
       "    </tr>\n",
       "  </thead>\n",
       "  <tbody>\n",
       "    <tr>\n",
       "      <th>0</th>\n",
       "      <td>7</td>\n",
       "      <td>791684650</td>\n",
       "    </tr>\n",
       "    <tr>\n",
       "      <th>1</th>\n",
       "      <td>10</td>\n",
       "      <td>498081175</td>\n",
       "    </tr>\n",
       "    <tr>\n",
       "      <th>2</th>\n",
       "      <td>8</td>\n",
       "      <td>820194548</td>\n",
       "    </tr>\n",
       "    <tr>\n",
       "      <th>3</th>\n",
       "      <td>11</td>\n",
       "      <td>899083009</td>\n",
       "    </tr>\n",
       "    <tr>\n",
       "      <th>4</th>\n",
       "      <td>14</td>\n",
       "      <td>207808771</td>\n",
       "    </tr>\n",
       "    <tr>\n",
       "      <th>5</th>\n",
       "      <td>11</td>\n",
       "      <td>564883230</td>\n",
       "    </tr>\n",
       "    <tr>\n",
       "      <th>6</th>\n",
       "      <td>11</td>\n",
       "      <td>511339115</td>\n",
       "    </tr>\n",
       "    <tr>\n",
       "      <th>7</th>\n",
       "      <td>12</td>\n",
       "      <td>757905645</td>\n",
       "    </tr>\n",
       "    <tr>\n",
       "      <th>8</th>\n",
       "      <td>13</td>\n",
       "      <td>950008944</td>\n",
       "    </tr>\n",
       "    <tr>\n",
       "      <th>9</th>\n",
       "      <td>17</td>\n",
       "      <td>503258152</td>\n",
       "    </tr>\n",
       "    <tr>\n",
       "      <th>10</th>\n",
       "      <td>13</td>\n",
       "      <td>378752225</td>\n",
       "    </tr>\n",
       "    <tr>\n",
       "      <th>11</th>\n",
       "      <td>20</td>\n",
       "      <td>413341289</td>\n",
       "    </tr>\n",
       "    <tr>\n",
       "      <th>12</th>\n",
       "      <td>20</td>\n",
       "      <td>862249710</td>\n",
       "    </tr>\n",
       "    <tr>\n",
       "      <th>13</th>\n",
       "      <td>16</td>\n",
       "      <td>139553383</td>\n",
       "    </tr>\n",
       "    <tr>\n",
       "      <th>14</th>\n",
       "      <td>17</td>\n",
       "      <td>542089378</td>\n",
       "    </tr>\n",
       "    <tr>\n",
       "      <th>15</th>\n",
       "      <td>20</td>\n",
       "      <td>509312302</td>\n",
       "    </tr>\n",
       "    <tr>\n",
       "      <th>16</th>\n",
       "      <td>23</td>\n",
       "      <td>430658651</td>\n",
       "    </tr>\n",
       "    <tr>\n",
       "      <th>17</th>\n",
       "      <td>19</td>\n",
       "      <td>876537240</td>\n",
       "    </tr>\n",
       "    <tr>\n",
       "      <th>18</th>\n",
       "      <td>26</td>\n",
       "      <td>206340151</td>\n",
       "    </tr>\n",
       "    <tr>\n",
       "      <th>19</th>\n",
       "      <td>22</td>\n",
       "      <td>181329898</td>\n",
       "    </tr>\n",
       "    <tr>\n",
       "      <th>20</th>\n",
       "      <td>23</td>\n",
       "      <td>552593796</td>\n",
       "    </tr>\n",
       "    <tr>\n",
       "      <th>21</th>\n",
       "      <td>23</td>\n",
       "      <td>763633711</td>\n",
       "    </tr>\n",
       "    <tr>\n",
       "      <th>22</th>\n",
       "      <td>25</td>\n",
       "      <td>420693477</td>\n",
       "    </tr>\n",
       "    <tr>\n",
       "      <th>23</th>\n",
       "      <td>23</td>\n",
       "      <td>185236853</td>\n",
       "    </tr>\n",
       "  </tbody>\n",
       "</table>\n",
       "</div>"
      ],
      "text/plain": [
       "    losses  marketvalue\n",
       "0        7    791684650\n",
       "1       10    498081175\n",
       "2        8    820194548\n",
       "3       11    899083009\n",
       "4       14    207808771\n",
       "5       11    564883230\n",
       "6       11    511339115\n",
       "7       12    757905645\n",
       "8       13    950008944\n",
       "9       17    503258152\n",
       "10      13    378752225\n",
       "11      20    413341289\n",
       "12      20    862249710\n",
       "13      16    139553383\n",
       "14      17    542089378\n",
       "15      20    509312302\n",
       "16      23    430658651\n",
       "17      19    876537240\n",
       "18      26    206340151\n",
       "19      22    181329898\n",
       "20      23    552593796\n",
       "21      23    763633711\n",
       "22      25    420693477\n",
       "23      23    185236853"
      ]
     },
     "execution_count": 203,
     "metadata": {},
     "output_type": "execute_result"
    }
   ],
   "source": [
    "del teams_pd['teamname']\n",
    "teams_pd"
   ]
  },
  {
   "cell_type": "markdown",
   "metadata": {},
   "source": [
    "Нормализация данных"
   ]
  },
  {
   "cell_type": "code",
   "execution_count": 204,
   "metadata": {},
   "outputs": [
    {
     "data": {
      "text/plain": [
       "array([[1.25275497, 3.20552367],\n",
       "       [1.78964996, 2.01672597],\n",
       "       [1.43171997, 3.32095998],\n",
       "       [1.96861495, 3.64037861],\n",
       "       [2.50550994, 0.84141575],\n",
       "       [1.96861495, 2.28720686],\n",
       "       [1.96861495, 2.07040725],\n",
       "       [2.14757995, 3.0687528 ],\n",
       "       [2.32654495, 3.84657724],\n",
       "       [3.04240493, 2.0376875 ],\n",
       "       [2.32654495, 1.53356418],\n",
       "       [3.57929992, 1.67361497],\n",
       "       [3.57929992, 3.49124093],\n",
       "       [2.86343993, 0.56505033],\n",
       "       [3.04240493, 2.19491477],\n",
       "       [3.57929992, 2.0622007 ],\n",
       "       [4.11619491, 1.74373281],\n",
       "       [3.40033492, 3.54909101],\n",
       "       [4.65308989, 0.83546932],\n",
       "       [3.93722991, 0.73420304],\n",
       "       [4.11619491, 2.23744706],\n",
       "       [4.11619491, 3.09194568],\n",
       "       [4.4741249 , 1.70338391],\n",
       "       [4.11619491, 0.75002227]])"
      ]
     },
     "execution_count": 204,
     "metadata": {},
     "output_type": "execute_result"
    }
   ],
   "source": [
    "whitened = whiten(teams_pd.as_matrix())\n",
    "whitened"
   ]
  },
  {
   "cell_type": "markdown",
   "metadata": {},
   "source": [
    "Сделаем 3 кластера"
   ]
  },
  {
   "cell_type": "code",
   "execution_count": 205,
   "metadata": {},
   "outputs": [
    {
     "data": {
      "text/plain": [
       "(array([[1.85676183, 2.64293991],\n",
       "        [3.66878242, 1.44826187],\n",
       "        [3.35559367, 3.49471371]]),\n",
       " array([0, 0, 0, 0, 1, 0, 0, 0, 2, 1, 0, 1, 2, 1, 1, 1, 1, 2, 1, 1, 1, 2,\n",
       "        1, 1]))"
      ]
     },
     "execution_count": 205,
     "metadata": {},
     "output_type": "execute_result"
    }
   ],
   "source": [
    "centroids, cluster_map = kmeans2(whitened, 3)\n",
    "centroids, cluster_map"
   ]
  },
  {
   "cell_type": "markdown",
   "metadata": {},
   "source": [
    "Зададим цвета для каждого кластера"
   ]
  },
  {
   "cell_type": "code",
   "execution_count": 206,
   "metadata": {},
   "outputs": [
    {
     "data": {
      "text/plain": [
       "['r',\n",
       " 'r',\n",
       " 'r',\n",
       " 'r',\n",
       " 'g',\n",
       " 'r',\n",
       " 'r',\n",
       " 'r',\n",
       " 'b',\n",
       " 'g',\n",
       " 'r',\n",
       " 'g',\n",
       " 'b',\n",
       " 'g',\n",
       " 'g',\n",
       " 'g',\n",
       " 'g',\n",
       " 'b',\n",
       " 'g',\n",
       " 'g',\n",
       " 'g',\n",
       " 'b',\n",
       " 'g',\n",
       " 'g']"
      ]
     },
     "execution_count": 206,
     "metadata": {},
     "output_type": "execute_result"
    }
   ],
   "source": [
    "colors_map = {0: 'r', 1: 'g', 2: 'b', 3: 'y', 4: 'm'}\n",
    "colors = [colors_map[c] for c in cluster_map]\n",
    "colors"
   ]
  },
  {
   "cell_type": "code",
   "execution_count": 207,
   "metadata": {},
   "outputs": [
    {
     "data": {
      "text/plain": [
       "<matplotlib.axes._subplots.AxesSubplot at 0xb9cfa58>"
      ]
     },
     "execution_count": 207,
     "metadata": {},
     "output_type": "execute_result"
    },
    {
     "data": {
      "image/png": "[encoded data removed]",
      "text/plain": [
       "<matplotlib.figure.Figure at 0xba067f0>"
      ]
     },
     "metadata": {},
     "output_type": "display_data"
    }
   ],
   "source": [
    "teams_pd.plot.scatter(x='losses', y='marketvalue', c=colors, s=100)"
   ]
  },
  {
   "cell_type": "markdown",
   "metadata": {},
   "source": [
    "Теперь попробуем сделать больше кластеров."
   ]
  },
  {
   "cell_type": "code",
   "execution_count": 208,
   "metadata": {},
   "outputs": [
    {
     "data": {
      "text/plain": [
       "(array([[4.08636741, 1.70930813],\n",
       "        [3.69860991, 3.37742587],\n",
       "        [2.35637245, 2.02341776],\n",
       "        [1.82544296, 3.41643846],\n",
       "        [3.35559367, 0.72267285]]),\n",
       " array([3, 2, 3, 3, 4, 2, 2, 3, 3, 2, 2, 0, 1, 4, 2, 0, 0, 1, 0, 4, 0, 1,\n",
       "        0, 4]))"
      ]
     },
     "execution_count": 208,
     "metadata": {},
     "output_type": "execute_result"
    }
   ],
   "source": [
    "centroids, cluster_map = kmeans2(whitened, 5)\n",
    "centroids, cluster_map"
   ]
  },
  {
   "cell_type": "code",
   "execution_count": 209,
   "metadata": {},
   "outputs": [
    {
     "data": {
      "text/plain": [
       "['y',\n",
       " 'b',\n",
       " 'y',\n",
       " 'y',\n",
       " 'm',\n",
       " 'b',\n",
       " 'b',\n",
       " 'y',\n",
       " 'y',\n",
       " 'b',\n",
       " 'b',\n",
       " 'r',\n",
       " 'g',\n",
       " 'm',\n",
       " 'b',\n",
       " 'r',\n",
       " 'r',\n",
       " 'g',\n",
       " 'r',\n",
       " 'm',\n",
       " 'r',\n",
       " 'g',\n",
       " 'r',\n",
       " 'm']"
      ]
     },
     "execution_count": 209,
     "metadata": {},
     "output_type": "execute_result"
    }
   ],
   "source": [
    "colors_map = {0: 'r', 1: 'g', 2: 'b', 3: 'y', 4: 'm'}\n",
    "colors = [colors_map[c] for c in cluster_map]\n",
    "colors"
   ]
  },
  {
   "cell_type": "code",
   "execution_count": 210,
   "metadata": {},
   "outputs": [
    {
     "data": {
      "text/plain": [
       "<matplotlib.axes._subplots.AxesSubplot at 0xb9a71d0>"
      ]
     },
     "execution_count": 210,
     "metadata": {},
     "output_type": "execute_result"
    },
    {
     "data": {
      "image/png": "[encoded data removed]",
      "text/plain": [
       "<matplotlib.figure.Figure at 0xb9cfef0>"
      ]
     },
     "metadata": {},
     "output_type": "display_data"
    }
   ],
   "source": [
    "teams_pd.plot.scatter(x='losses', y='marketvalue', c=colors, s=100)"
   ]
  },
  {
   "cell_type": "code",
   "execution_count": null,
   "metadata": {},
   "outputs": [],
   "source": []
  }
 ],
 "metadata": {
  "anaconda-cloud": {},
  "kernelspec": {
   "display_name": "Python 3",
   "language": "python",
   "name": "python3"
  },
  "language_info": {
   "codemirror_mode": {
    "name": "ipython",
    "version": 3
   },
   "file_extension": ".py",
   "mimetype": "text/x-python",
   "name": "python",
   "nbconvert_exporter": "python",
   "pygments_lexer": "ipython3",
   "version": "3.6.4"
  }
 },
 "nbformat": 4,
 "nbformat_minor": 2
}
