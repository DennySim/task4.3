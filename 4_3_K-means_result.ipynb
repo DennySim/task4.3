{
 "cells": [
  {
   "cell_type": "markdown",
   "metadata": {},
   "source": [
    "### Стандартные импорты и настройки"
   ]
  },
  {
   "cell_type": "code",
   "execution_count": 1,
   "metadata": {},
   "outputs": [],
   "source": [
    "from pprint import pprint\n",
    "\n",
    "import requests\n",
    "\n",
    "import pandas as pd\n",
    "import numpy as np\n",
    "import matplotlib.pyplot as plt\n",
    "\n",
    "%matplotlib inline"
   ]
  },
  {
   "cell_type": "markdown",
   "metadata": {},
   "source": [
    "### Scipy\n",
    "\n",
    "Импортируем функции из библиотеки для кластеризации и векторного квантования.\n",
    "\n",
    "https://docs.scipy.org/doc/scipy-0.18.1/reference/cluster.vq.html"
   ]
  },
  {
   "cell_type": "code",
   "execution_count": 2,
   "metadata": {},
   "outputs": [],
   "source": [
    "from scipy.cluster.vq import whiten, kmeans2"
   ]
  },
  {
   "cell_type": "markdown",
   "metadata": {},
   "source": [
    "### Подключаем API\n",
    "\n",
    "Для примера используем открытое API, которое предоставляет данные о футбольных командах и матчах. \n",
    "\n",
    "http://api.football-data.org/docs/v1/index.html\n",
    "\n",
    "Для полноценного использования лучше всего получить ключ, это довольно просто.\n",
    "\n",
    "http://api.football-data.org/client/register"
   ]
  },
  {
   "cell_type": "markdown",
   "metadata": {},
   "source": [
    "Для удобства зададим вспомогательный метод для обращения к API."
   ]
  },
  {
   "cell_type": "code",
   "execution_count": 16,
   "metadata": {},
   "outputs": [],
   "source": [
    "def call_api(uri, result_key):\n",
    "    json = {}\n",
    "    try:\n",
    "        json = requests.get(uri, \n",
    "                            headers={'X-Auth-Token': \n",
    "                                     '0dfe6096ccd94946b7dbce0ee9ec77f0' })\\\n",
    "                                     .json()\n",
    "        return json[result_key]\n",
    "    except:\n",
    "        #print(json)\n",
    "        return json    "
   ]
  },
  {
   "cell_type": "markdown",
   "metadata": {},
   "source": [
    "Получаем команды"
   ]
  },
  {
   "cell_type": "code",
   "execution_count": 17,
   "metadata": {},
   "outputs": [],
   "source": [
    "team_quantity = call_api(\n",
    "    'http://api.football-data.org/v1/competitions/446/?season=2016',\n",
    "    'numberOfTeams')\n",
    "teams = call_api(\n",
    "    'http://api.football-data.org/v1/competitions/446/leagueTable?season=2016',\n",
    "    'teams')\n",
    "\n"
   ]
  },
  {
   "cell_type": "markdown",
   "metadata": {},
   "source": [
    "Готовим данные для трансформации в Pandas"
   ]
  },
  {
   "cell_type": "code",
   "execution_count": 18,
   "metadata": {},
   "outputs": [
    {
     "data": {
      "text/plain": [
       "[{'losses': 7,\n",
       "  'marketvalue': 256212713,\n",
       "  'teamname': 'Wolverhampton Wanderers FC'},\n",
       " {'losses': 10, 'marketvalue': 662984607, 'teamname': 'Cardiff City FC'},\n",
       " {'losses': 8, 'marketvalue': 273426714, 'teamname': 'Fulham FC'},\n",
       " {'losses': 11, 'marketvalue': 39011350, 'teamname': 'Aston Villa FC'},\n",
       " {'losses': 14, 'marketvalue': 335126016, 'teamname': 'Middlesbrough FC'},\n",
       " {'losses': 11, 'marketvalue': 827515207, 'teamname': 'Derby County'},\n",
       " {'losses': 11, 'marketvalue': 452187232, 'teamname': 'Preston North End'},\n",
       " {'losses': 12, 'marketvalue': 254606364, 'teamname': 'Millwall FC'},\n",
       " {'losses': 13, 'marketvalue': 999784819, 'teamname': 'Brentford FC'},\n",
       " {'losses': 17, 'marketvalue': 215363541, 'teamname': 'Sheffield United FC'},\n",
       " {'losses': 13, 'marketvalue': 445389539, 'teamname': 'Bristol City'},\n",
       " {'losses': 20, 'marketvalue': 138844810, 'teamname': 'Ipswich Town'},\n",
       " {'losses': 20, 'marketvalue': 961257753, 'teamname': 'Leeds United'},\n",
       " {'losses': 16, 'marketvalue': 440539220, 'teamname': 'Norwich City FC'},\n",
       " {'losses': 17, 'marketvalue': 110317644, 'teamname': 'Sheffield Wednesday'},\n",
       " {'losses': 20, 'marketvalue': 775795164, 'teamname': 'Queens Park Rangers'},\n",
       " {'losses': 23, 'marketvalue': 12562141, 'teamname': 'Nottingham Forest'},\n",
       " {'losses': 19, 'marketvalue': 690549247, 'teamname': 'Hull City FC'},\n",
       " {'losses': 26, 'marketvalue': 519667074, 'teamname': 'Birmingham City'},\n",
       " {'losses': 22, 'marketvalue': 993528596, 'teamname': 'Reading'},\n",
       " {'losses': 23, 'marketvalue': 392854412, 'teamname': 'Bolton Wanderers FC'},\n",
       " {'losses': 23, 'marketvalue': 378199121, 'teamname': 'Barnsley FC'},\n",
       " {'losses': 25, 'marketvalue': 143770665, 'teamname': 'Burton Albion FC'},\n",
       " {'losses': 23, 'marketvalue': 995261430, 'teamname': 'Sunderland AFC'}]"
      ]
     },
     "execution_count": 18,
     "metadata": {},
     "output_type": "execute_result"
    }
   ],
   "source": [
    "team_for_pd = []\n",
    "for i in range(team_quantity):\n",
    "    team_for_pd.append({'teamname': teams['standing'][i]['teamName'], \n",
    "                        'losses': teams['standing'][i]['losses'], \n",
    "                        'marketvalue': np.random.randint(1000000000, size=1)[0]})\n",
    "team_for_pd\n"
   ]
  },
  {
   "cell_type": "markdown",
   "metadata": {},
   "source": [
    "Трансформируем"
   ]
  },
  {
   "cell_type": "code",
   "execution_count": 19,
   "metadata": {},
   "outputs": [
    {
     "data": {
      "text/html": [
       "<div>\n",
       "<style scoped>\n",
       "    .dataframe tbody tr th:only-of-type {\n",
       "        vertical-align: middle;\n",
       "    }\n",
       "\n",
       "    .dataframe tbody tr th {\n",
       "        vertical-align: top;\n",
       "    }\n",
       "\n",
       "    .dataframe thead th {\n",
       "        text-align: right;\n",
       "    }\n",
       "</style>\n",
       "<table border=\"1\" class=\"dataframe\">\n",
       "  <thead>\n",
       "    <tr style=\"text-align: right;\">\n",
       "      <th></th>\n",
       "      <th>losses</th>\n",
       "      <th>marketvalue</th>\n",
       "      <th>teamname</th>\n",
       "    </tr>\n",
       "  </thead>\n",
       "  <tbody>\n",
       "    <tr>\n",
       "      <th>0</th>\n",
       "      <td>7</td>\n",
       "      <td>256212713</td>\n",
       "      <td>Wolverhampton Wanderers FC</td>\n",
       "    </tr>\n",
       "    <tr>\n",
       "      <th>1</th>\n",
       "      <td>10</td>\n",
       "      <td>662984607</td>\n",
       "      <td>Cardiff City FC</td>\n",
       "    </tr>\n",
       "    <tr>\n",
       "      <th>2</th>\n",
       "      <td>8</td>\n",
       "      <td>273426714</td>\n",
       "      <td>Fulham FC</td>\n",
       "    </tr>\n",
       "    <tr>\n",
       "      <th>3</th>\n",
       "      <td>11</td>\n",
       "      <td>39011350</td>\n",
       "      <td>Aston Villa FC</td>\n",
       "    </tr>\n",
       "    <tr>\n",
       "      <th>4</th>\n",
       "      <td>14</td>\n",
       "      <td>335126016</td>\n",
       "      <td>Middlesbrough FC</td>\n",
       "    </tr>\n",
       "    <tr>\n",
       "      <th>5</th>\n",
       "      <td>11</td>\n",
       "      <td>827515207</td>\n",
       "      <td>Derby County</td>\n",
       "    </tr>\n",
       "    <tr>\n",
       "      <th>6</th>\n",
       "      <td>11</td>\n",
       "      <td>452187232</td>\n",
       "      <td>Preston North End</td>\n",
       "    </tr>\n",
       "    <tr>\n",
       "      <th>7</th>\n",
       "      <td>12</td>\n",
       "      <td>254606364</td>\n",
       "      <td>Millwall FC</td>\n",
       "    </tr>\n",
       "    <tr>\n",
       "      <th>8</th>\n",
       "      <td>13</td>\n",
       "      <td>999784819</td>\n",
       "      <td>Brentford FC</td>\n",
       "    </tr>\n",
       "    <tr>\n",
       "      <th>9</th>\n",
       "      <td>17</td>\n",
       "      <td>215363541</td>\n",
       "      <td>Sheffield United FC</td>\n",
       "    </tr>\n",
       "    <tr>\n",
       "      <th>10</th>\n",
       "      <td>13</td>\n",
       "      <td>445389539</td>\n",
       "      <td>Bristol City</td>\n",
       "    </tr>\n",
       "    <tr>\n",
       "      <th>11</th>\n",
       "      <td>20</td>\n",
       "      <td>138844810</td>\n",
       "      <td>Ipswich Town</td>\n",
       "    </tr>\n",
       "    <tr>\n",
       "      <th>12</th>\n",
       "      <td>20</td>\n",
       "      <td>961257753</td>\n",
       "      <td>Leeds United</td>\n",
       "    </tr>\n",
       "    <tr>\n",
       "      <th>13</th>\n",
       "      <td>16</td>\n",
       "      <td>440539220</td>\n",
       "      <td>Norwich City FC</td>\n",
       "    </tr>\n",
       "    <tr>\n",
       "      <th>14</th>\n",
       "      <td>17</td>\n",
       "      <td>110317644</td>\n",
       "      <td>Sheffield Wednesday</td>\n",
       "    </tr>\n",
       "    <tr>\n",
       "      <th>15</th>\n",
       "      <td>20</td>\n",
       "      <td>775795164</td>\n",
       "      <td>Queens Park Rangers</td>\n",
       "    </tr>\n",
       "    <tr>\n",
       "      <th>16</th>\n",
       "      <td>23</td>\n",
       "      <td>12562141</td>\n",
       "      <td>Nottingham Forest</td>\n",
       "    </tr>\n",
       "    <tr>\n",
       "      <th>17</th>\n",
       "      <td>19</td>\n",
       "      <td>690549247</td>\n",
       "      <td>Hull City FC</td>\n",
       "    </tr>\n",
       "    <tr>\n",
       "      <th>18</th>\n",
       "      <td>26</td>\n",
       "      <td>519667074</td>\n",
       "      <td>Birmingham City</td>\n",
       "    </tr>\n",
       "    <tr>\n",
       "      <th>19</th>\n",
       "      <td>22</td>\n",
       "      <td>993528596</td>\n",
       "      <td>Reading</td>\n",
       "    </tr>\n",
       "    <tr>\n",
       "      <th>20</th>\n",
       "      <td>23</td>\n",
       "      <td>392854412</td>\n",
       "      <td>Bolton Wanderers FC</td>\n",
       "    </tr>\n",
       "    <tr>\n",
       "      <th>21</th>\n",
       "      <td>23</td>\n",
       "      <td>378199121</td>\n",
       "      <td>Barnsley FC</td>\n",
       "    </tr>\n",
       "    <tr>\n",
       "      <th>22</th>\n",
       "      <td>25</td>\n",
       "      <td>143770665</td>\n",
       "      <td>Burton Albion FC</td>\n",
       "    </tr>\n",
       "    <tr>\n",
       "      <th>23</th>\n",
       "      <td>23</td>\n",
       "      <td>995261430</td>\n",
       "      <td>Sunderland AFC</td>\n",
       "    </tr>\n",
       "  </tbody>\n",
       "</table>\n",
       "</div>"
      ],
      "text/plain": [
       "    losses  marketvalue                    teamname\n",
       "0        7    256212713  Wolverhampton Wanderers FC\n",
       "1       10    662984607             Cardiff City FC\n",
       "2        8    273426714                   Fulham FC\n",
       "3       11     39011350              Aston Villa FC\n",
       "4       14    335126016            Middlesbrough FC\n",
       "5       11    827515207                Derby County\n",
       "6       11    452187232           Preston North End\n",
       "7       12    254606364                 Millwall FC\n",
       "8       13    999784819                Brentford FC\n",
       "9       17    215363541         Sheffield United FC\n",
       "10      13    445389539                Bristol City\n",
       "11      20    138844810                Ipswich Town\n",
       "12      20    961257753                Leeds United\n",
       "13      16    440539220             Norwich City FC\n",
       "14      17    110317644         Sheffield Wednesday\n",
       "15      20    775795164         Queens Park Rangers\n",
       "16      23     12562141           Nottingham Forest\n",
       "17      19    690549247                Hull City FC\n",
       "18      26    519667074             Birmingham City\n",
       "19      22    993528596                     Reading\n",
       "20      23    392854412         Bolton Wanderers FC\n",
       "21      23    378199121                 Barnsley FC\n",
       "22      25    143770665            Burton Albion FC\n",
       "23      23    995261430              Sunderland AFC"
      ]
     },
     "execution_count": 19,
     "metadata": {},
     "output_type": "execute_result"
    }
   ],
   "source": [
    "teams_pd = pd.DataFrame(team_for_pd)\n",
    "teams_pd"
   ]
  },
  {
   "cell_type": "markdown",
   "metadata": {},
   "source": [
    "Отображаем"
   ]
  },
  {
   "cell_type": "code",
   "execution_count": 20,
   "metadata": {
    "scrolled": true
   },
   "outputs": [
    {
     "data": {
      "text/plain": [
       "<matplotlib.axes._subplots.AxesSubplot at 0x9e4f048>"
      ]
     },
     "execution_count": 20,
     "metadata": {},
     "output_type": "execute_result"
    },
    {
     "data": {
      "image/png": "[encoded data removed]",
      "text/plain": [
       "<matplotlib.figure.Figure at 0x9de6898>"
      ]
     },
     "metadata": {},
     "output_type": "display_data"
    }
   ],
   "source": [
    "teams_pd.plot.scatter(x='losses', y='marketvalue', s=100)"
   ]
  },
  {
   "cell_type": "markdown",
   "metadata": {},
   "source": [
    "Удаляем колонку с именами"
   ]
  },
  {
   "cell_type": "code",
   "execution_count": 8,
   "metadata": {},
   "outputs": [
    {
     "data": {
      "text/html": [
       "<div>\n",
       "<style scoped>\n",
       "    .dataframe tbody tr th:only-of-type {\n",
       "        vertical-align: middle;\n",
       "    }\n",
       "\n",
       "    .dataframe tbody tr th {\n",
       "        vertical-align: top;\n",
       "    }\n",
       "\n",
       "    .dataframe thead th {\n",
       "        text-align: right;\n",
       "    }\n",
       "</style>\n",
       "<table border=\"1\" class=\"dataframe\">\n",
       "  <thead>\n",
       "    <tr style=\"text-align: right;\">\n",
       "      <th></th>\n",
       "      <th>losses</th>\n",
       "      <th>marketvalue</th>\n",
       "    </tr>\n",
       "  </thead>\n",
       "  <tbody>\n",
       "    <tr>\n",
       "      <th>0</th>\n",
       "      <td>7</td>\n",
       "      <td>744415833</td>\n",
       "    </tr>\n",
       "    <tr>\n",
       "      <th>1</th>\n",
       "      <td>10</td>\n",
       "      <td>57824219</td>\n",
       "    </tr>\n",
       "    <tr>\n",
       "      <th>2</th>\n",
       "      <td>8</td>\n",
       "      <td>217803255</td>\n",
       "    </tr>\n",
       "    <tr>\n",
       "      <th>3</th>\n",
       "      <td>11</td>\n",
       "      <td>234905031</td>\n",
       "    </tr>\n",
       "    <tr>\n",
       "      <th>4</th>\n",
       "      <td>14</td>\n",
       "      <td>486986576</td>\n",
       "    </tr>\n",
       "    <tr>\n",
       "      <th>5</th>\n",
       "      <td>11</td>\n",
       "      <td>515926150</td>\n",
       "    </tr>\n",
       "    <tr>\n",
       "      <th>6</th>\n",
       "      <td>11</td>\n",
       "      <td>865392134</td>\n",
       "    </tr>\n",
       "    <tr>\n",
       "      <th>7</th>\n",
       "      <td>12</td>\n",
       "      <td>854874949</td>\n",
       "    </tr>\n",
       "    <tr>\n",
       "      <th>8</th>\n",
       "      <td>13</td>\n",
       "      <td>707189504</td>\n",
       "    </tr>\n",
       "    <tr>\n",
       "      <th>9</th>\n",
       "      <td>17</td>\n",
       "      <td>796339773</td>\n",
       "    </tr>\n",
       "    <tr>\n",
       "      <th>10</th>\n",
       "      <td>13</td>\n",
       "      <td>591839850</td>\n",
       "    </tr>\n",
       "    <tr>\n",
       "      <th>11</th>\n",
       "      <td>20</td>\n",
       "      <td>225126788</td>\n",
       "    </tr>\n",
       "    <tr>\n",
       "      <th>12</th>\n",
       "      <td>20</td>\n",
       "      <td>689209369</td>\n",
       "    </tr>\n",
       "    <tr>\n",
       "      <th>13</th>\n",
       "      <td>16</td>\n",
       "      <td>897989460</td>\n",
       "    </tr>\n",
       "    <tr>\n",
       "      <th>14</th>\n",
       "      <td>17</td>\n",
       "      <td>227375077</td>\n",
       "    </tr>\n",
       "    <tr>\n",
       "      <th>15</th>\n",
       "      <td>20</td>\n",
       "      <td>240090020</td>\n",
       "    </tr>\n",
       "    <tr>\n",
       "      <th>16</th>\n",
       "      <td>23</td>\n",
       "      <td>639948836</td>\n",
       "    </tr>\n",
       "    <tr>\n",
       "      <th>17</th>\n",
       "      <td>19</td>\n",
       "      <td>505047613</td>\n",
       "    </tr>\n",
       "    <tr>\n",
       "      <th>18</th>\n",
       "      <td>26</td>\n",
       "      <td>920811872</td>\n",
       "    </tr>\n",
       "    <tr>\n",
       "      <th>19</th>\n",
       "      <td>22</td>\n",
       "      <td>818657498</td>\n",
       "    </tr>\n",
       "    <tr>\n",
       "      <th>20</th>\n",
       "      <td>23</td>\n",
       "      <td>367665948</td>\n",
       "    </tr>\n",
       "    <tr>\n",
       "      <th>21</th>\n",
       "      <td>23</td>\n",
       "      <td>647419607</td>\n",
       "    </tr>\n",
       "    <tr>\n",
       "      <th>22</th>\n",
       "      <td>25</td>\n",
       "      <td>754253164</td>\n",
       "    </tr>\n",
       "    <tr>\n",
       "      <th>23</th>\n",
       "      <td>23</td>\n",
       "      <td>144959789</td>\n",
       "    </tr>\n",
       "  </tbody>\n",
       "</table>\n",
       "</div>"
      ],
      "text/plain": [
       "    losses  marketvalue\n",
       "0        7    744415833\n",
       "1       10     57824219\n",
       "2        8    217803255\n",
       "3       11    234905031\n",
       "4       14    486986576\n",
       "5       11    515926150\n",
       "6       11    865392134\n",
       "7       12    854874949\n",
       "8       13    707189504\n",
       "9       17    796339773\n",
       "10      13    591839850\n",
       "11      20    225126788\n",
       "12      20    689209369\n",
       "13      16    897989460\n",
       "14      17    227375077\n",
       "15      20    240090020\n",
       "16      23    639948836\n",
       "17      19    505047613\n",
       "18      26    920811872\n",
       "19      22    818657498\n",
       "20      23    367665948\n",
       "21      23    647419607\n",
       "22      25    754253164\n",
       "23      23    144959789"
      ]
     },
     "execution_count": 8,
     "metadata": {},
     "output_type": "execute_result"
    }
   ],
   "source": [
    "del teams_pd['teamname']\n",
    "teams_pd"
   ]
  },
  {
   "cell_type": "markdown",
   "metadata": {},
   "source": [
    "Нормализация данных"
   ]
  },
  {
   "cell_type": "code",
   "execution_count": 9,
   "metadata": {},
   "outputs": [
    {
     "data": {
      "text/plain": [
       "array([[1.25275497, 2.80634878],\n",
       "       [1.78964996, 0.21798962],\n",
       "       [1.43171997, 0.82108933],\n",
       "       [1.96861495, 0.88556075],\n",
       "       [2.50550994, 1.83587469],\n",
       "       [1.96861495, 1.94497303],\n",
       "       [1.96861495, 3.26241336],\n",
       "       [2.14757995, 3.22276497],\n",
       "       [2.32654495, 2.66601046],\n",
       "       [3.04240493, 3.00209513],\n",
       "       [2.32654495, 2.2311576 ],\n",
       "       [3.57929992, 0.84869808],\n",
       "       [3.57929992, 2.59822775],\n",
       "       [2.86343993, 3.38530095],\n",
       "       [3.04240493, 0.85717383],\n",
       "       [3.57929992, 0.90510747],\n",
       "       [4.11619491, 2.41252208],\n",
       "       [3.40033492, 1.90396239],\n",
       "       [4.65308989, 3.47133841],\n",
       "       [3.93722991, 3.08622999],\n",
       "       [4.11619491, 1.38605177],\n",
       "       [4.11619491, 2.44068589],\n",
       "       [4.4741249 , 2.84343421],\n",
       "       [4.11619491, 0.54647914]])"
      ]
     },
     "execution_count": 9,
     "metadata": {},
     "output_type": "execute_result"
    }
   ],
   "source": [
    "whitened = whiten(teams_pd.as_matrix())\n",
    "whitened"
   ]
  },
  {
   "cell_type": "markdown",
   "metadata": {},
   "source": [
    "Сделаем 3 кластера"
   ]
  },
  {
   "cell_type": "code",
   "execution_count": 10,
   "metadata": {},
   "outputs": [
    {
     "data": {
      "text/plain": [
       "(array([[3.84774741, 2.9049793 ],\n",
       "        [1.68227096, 1.3351923 ],\n",
       "        [3.00986584, 1.78779034]]),\n",
       " array([1, 1, 1, 1, 2, 1, 2, 2, 2, 0, 2, 2, 0, 0, 2, 2, 0, 2, 0, 0, 2, 0,\n",
       "        0, 2]))"
      ]
     },
     "execution_count": 10,
     "metadata": {},
     "output_type": "execute_result"
    }
   ],
   "source": [
    "centroids, cluster_map = kmeans2(whitened, 3)\n",
    "centroids, cluster_map"
   ]
  },
  {
   "cell_type": "markdown",
   "metadata": {},
   "source": [
    "Зададим цвета для каждого кластера"
   ]
  },
  {
   "cell_type": "code",
   "execution_count": 11,
   "metadata": {},
   "outputs": [
    {
     "data": {
      "text/plain": [
       "['g',\n",
       " 'g',\n",
       " 'g',\n",
       " 'g',\n",
       " 'b',\n",
       " 'g',\n",
       " 'b',\n",
       " 'b',\n",
       " 'b',\n",
       " 'r',\n",
       " 'b',\n",
       " 'b',\n",
       " 'r',\n",
       " 'r',\n",
       " 'b',\n",
       " 'b',\n",
       " 'r',\n",
       " 'b',\n",
       " 'r',\n",
       " 'r',\n",
       " 'b',\n",
       " 'r',\n",
       " 'r',\n",
       " 'b']"
      ]
     },
     "execution_count": 11,
     "metadata": {},
     "output_type": "execute_result"
    }
   ],
   "source": [
    "colors_map = {0: 'r', 1: 'g', 2: 'b', 3: 'y', 4: 'm'}\n",
    "colors = [colors_map[c] for c in cluster_map]\n",
    "colors"
   ]
  },
  {
   "cell_type": "code",
   "execution_count": 12,
   "metadata": {},
   "outputs": [
    {
     "data": {
      "text/plain": [
       "<matplotlib.axes._subplots.AxesSubplot at 0x9bc2048>"
      ]
     },
     "execution_count": 12,
     "metadata": {},
     "output_type": "execute_result"
    },
    {
     "data": {
      "image/png": "[encoded data removed]",
      "text/plain": [
       "<matplotlib.figure.Figure at 0x9874898>"
      ]
     },
     "metadata": {},
     "output_type": "display_data"
    }
   ],
   "source": [
    "teams_pd.plot.scatter(x='losses', y='marketvalue', c=colors, s=100)"
   ]
  },
  {
   "cell_type": "markdown",
   "metadata": {},
   "source": [
    "Теперь попробуем сделать больше кластеров."
   ]
  },
  {
   "cell_type": "code",
   "execution_count": 13,
   "metadata": {},
   "outputs": [
    {
     "data": {
      "text/plain": [
       "(array([[3.84774741, 2.9049793 ],\n",
       "        [2.07088067, 2.56707756],\n",
       "        [3.57929992, 0.78936463],\n",
       "        [1.72999496, 0.64154657],\n",
       "        [3.75826491, 1.64500708]]),\n",
       " array([1, 3, 3, 3, 1, 1, 1, 1, 1, 0, 1, 2, 0, 0, 2, 2, 0, 4, 0, 0, 4, 0,\n",
       "        0, 2]))"
      ]
     },
     "execution_count": 13,
     "metadata": {},
     "output_type": "execute_result"
    }
   ],
   "source": [
    "centroids, cluster_map = kmeans2(whitened, 5)\n",
    "centroids, cluster_map"
   ]
  },
  {
   "cell_type": "code",
   "execution_count": 14,
   "metadata": {},
   "outputs": [
    {
     "data": {
      "text/plain": [
       "['g',\n",
       " 'y',\n",
       " 'y',\n",
       " 'y',\n",
       " 'g',\n",
       " 'g',\n",
       " 'g',\n",
       " 'g',\n",
       " 'g',\n",
       " 'r',\n",
       " 'g',\n",
       " 'b',\n",
       " 'r',\n",
       " 'r',\n",
       " 'b',\n",
       " 'b',\n",
       " 'r',\n",
       " 'm',\n",
       " 'r',\n",
       " 'r',\n",
       " 'm',\n",
       " 'r',\n",
       " 'r',\n",
       " 'b']"
      ]
     },
     "execution_count": 14,
     "metadata": {},
     "output_type": "execute_result"
    }
   ],
   "source": [
    "colors_map = {0: 'r', 1: 'g', 2: 'b', 3: 'y', 4: 'm'}\n",
    "colors = [colors_map[c] for c in cluster_map]\n",
    "colors"
   ]
  },
  {
   "cell_type": "code",
   "execution_count": 15,
   "metadata": {},
   "outputs": [
    {
     "data": {
      "text/plain": [
       "<matplotlib.axes._subplots.AxesSubplot at 0x9d25978>"
      ]
     },
     "execution_count": 15,
     "metadata": {},
     "output_type": "execute_result"
    },
    {
     "data": {
      "image/png": "[encoded data removed]",
      "text/plain": [
       "<matplotlib.figure.Figure at 0x9bd5390>"
      ]
     },
     "metadata": {},
     "output_type": "display_data"
    }
   ],
   "source": [
    "teams_pd.plot.scatter(x='losses', y='marketvalue', c=colors, s=100)"
   ]
  }
 ],
 "metadata": {
  "anaconda-cloud": {},
  "kernelspec": {
   "display_name": "Python 3",
   "language": "python",
   "name": "python3"
  },
  "language_info": {
   "codemirror_mode": {
    "name": "ipython",
    "version": 3
   },
   "file_extension": ".py",
   "mimetype": "text/x-python",
   "name": "python",
   "nbconvert_exporter": "python",
   "pygments_lexer": "ipython3",
   "version": "3.6.4"
  }
 },
 "nbformat": 4,
 "nbformat_minor": 2
}
